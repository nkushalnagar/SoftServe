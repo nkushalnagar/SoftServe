{
  "cells": [
    {
      "cell_type": "markdown",
      "metadata": {
        "id": "view-in-github",
        "colab_type": "text"
      },
      "source": [
        "<a href=\"https://colab.research.google.com/github/nkushalnagar/SoftServe/blob/main/SoftServe.ipynb\" target=\"_parent\"><img src=\"https://colab.research.google.com/assets/colab-badge.svg\" alt=\"Open In Colab\"/></a>"
      ]
    },
    {
      "cell_type": "code",
      "execution_count": 13,
      "metadata": {
        "colab": {
          "base_uri": "https://localhost:8080/"
        },
        "id": "X5D7xD7crgyN",
        "outputId": "0e21ff9d-4553-4e55-d1f8-f53e00ea591a"
      },
      "outputs": [
        {
          "output_type": "stream",
          "name": "stdout",
          "text": [
            "Are you ready for a soft serve?\n",
            "Please input the IP address code here to determine your location: https://api.ipify.org//\n",
            "216.165.95.184\n",
            "The sun's out and it's a perfect 79°F — ideal for a soft serve treat! Go grab one and cool off!\n"
          ]
        }
      ],
      "source": [
        "import requests\n",
        "import json\n",
        "import time\n",
        "import sys\n",
        "\n",
        "# Define function exit_program that ends program\n",
        "def exit_program():\n",
        "  sys.exit(0)\n",
        "\n",
        "# Define function get_loc_chars with parameter loc that is public IP address code (user can find at \"https://api.ipify.org//\") and returns dict of latitude and longitude of the provided IP\n",
        "# (API used: https://ip-api.com/docs/api:json)\n",
        "def get_loc_chars(loc):\n",
        "  res_loc = requests.get(\"http://ip-api.com/json/\" + loc + \"?fields=lat,lon\")\n",
        "\n",
        "  # Handle rate limit when there are too many rate requests\n",
        "  if res_loc.status_code == 429:\n",
        "    print(\"Rate limit reached. Retrying in 60 seconds...\")\n",
        "    time.sleep(60) # Wait for 60 seconds and retry\n",
        "    res_loc = requests.get(\"http://ip-api.com/json/\" + loc + \"?fields=lat,lon\")\n",
        "\n",
        "  # Return response date if successful, otherwise exits program\n",
        "  elif res_loc.ok:\n",
        "    return res_loc.json()\n",
        "  else:\n",
        "    print(f\"Error: {res_loc.status_code}\")\n",
        "    exit_program()\n",
        "    return None\n",
        "\n",
        "# Prompt user to input IP to program\n",
        "print(\"Are you ready for a soft serve?\")\n",
        "print(\"Please input the IP address code here to determine your location: https://api.ipify.org//\")\n",
        "geo_info = get_loc_chars(input())\n",
        "\n",
        "# Defines vars latitude and longitude retrieved from dict created from accessing IP API\n",
        "latitude = geo_info.get(\"lat\")\n",
        "longitude = geo_info.get(\"lon\")\n",
        "\n",
        "# Define function get_weather_info with parameter lat (latitude) and lon (longitude) and returns forecast information for the next 7 days at a 2.5 square kilometer gathered from the National Weather Service\n",
        "# (API used: https://www.weather.gov/documentation/services-web-api)\n",
        "def get_weather_info(lat,lon):\n",
        "  res_weather = requests.get(\"https://api.weather.gov/points/\" + str(lat) + \",\" + str(lon))\n",
        "\n",
        "  # Handle rate limit when there are too many rate requests\n",
        "  if res_weather.status_code == 429:\n",
        "    print(\"Rate limit reached. Retrying in 60 seconds...\")\n",
        "    time.sleep(60) # Wait for 60 seconds and retry\n",
        "    res_weather = requests.get(\"https://api.weather.gov/points/\" + str(lat) + \",\" + str(lon))\n",
        "\n",
        "  # Return response date if successful, otherwise exits program\n",
        "  elif res_weather.ok:\n",
        "    res_weather.json()\n",
        "    return res_weather.json()\n",
        "  else:\n",
        "    print('Error:', res_weather.status_code)\n",
        "    print ('IP address invalid, please make sure IP is public, IPv4/IPv6, and located in the US')\n",
        "    exit_program()\n",
        "    return None\n",
        "\n",
        "# Defines var weather_info as instance of get_weather_info() using the specific user's latitude and longitude as param\n",
        "weather_info = get_weather_info(latitude,longitude)\n",
        "\n",
        "# Define function get_hourly_forecast with parameter broad_forecast (instance of object returned from get_weather_info()) and returns hourly forecast info for the next 7 days\n",
        "def get_hourly_forecast(broad_forecast):\n",
        "  hourly_forecast = requests.get(broad_forecast.get('properties').get('forecastHourly'))\n",
        "\n",
        "  if hourly_forecast.ok:\n",
        "          hourly_forecast.json()\n",
        "          return hourly_forecast.json()\n",
        "  else:\n",
        "          print('Error:', hourly_forecast.status_code)\n",
        "          print('No hourly forecast found at your location please make sure you are located in the US')\n",
        "          exit_program()\n",
        "          return None\n",
        "\n",
        "# Define var hourly_forecast as instance of get_hourly_forecast using var weather_info as param\n",
        "hourly_forecast = get_hourly_forecast(weather_info)\n",
        "\n",
        "\n",
        "# Define var hourly_forecast_list using get() functions to trim hourly_forecast data\n",
        "hourly_forecast_list = hourly_forecast.get('properties').get('periods')\n",
        "\n",
        "# Define function get_temp with parameter x (represents x hours after current time) and returns temperature at xth hour in the next 7 days\n",
        "def get_temp(x):\n",
        "  return hourly_forecast_list[x-1].get('temperature')\n",
        "\n",
        "# Define function ice_cream which returns an encouraging statement if the temperature is greater than 78 degrees fareinheight and discourages if not\n",
        "def soft_serve():\n",
        "  temp = (get_temp(1))\n",
        "  if (temp > 78):\n",
        "    return print(f\"The sun's out and it's a perfect {temp}°F — ideal for a soft serve treat! Go grab one and cool off!\")\n",
        "  else:\n",
        "    return print(f\"Brrr, it's a chilly {temp}°F outside! Maybe save the ice cream for a warmer day and grab something cozy instead!\")\n",
        "\n",
        "# Create instance of ice_cream()\n",
        "soft_serve()"
      ]
    },
    {
      "cell_type": "code",
      "execution_count": null,
      "metadata": {
        "id": "H7-BjPQNLnsG"
      },
      "outputs": [],
      "source": []
    }
  ],
  "metadata": {
    "colab": {
      "provenance": [],
      "include_colab_link": true
    },
    "kernelspec": {
      "display_name": "Python 3",
      "name": "python3"
    },
    "language_info": {
      "name": "python"
    }
  },
  "nbformat": 4,
  "nbformat_minor": 0
}